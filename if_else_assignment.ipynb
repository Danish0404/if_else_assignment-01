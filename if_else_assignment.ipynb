{
 "cells": [
  {
   "cell_type": "markdown",
   "id": "885aa924-dad9-484f-8165-1e3086a161ee",
   "metadata": {},
   "source": [
    "Q1. Write a program to calculate the electricity bill\n",
    "using only if statement? (accept number of unit from user)\n",
    "according to the following criteria:"
   ]
  },
  {
   "cell_type": "code",
   "execution_count": null,
   "id": "8a8f3e49-7a93-4832-a829-fa8d45ba79df",
   "metadata": {},
   "outputs": [],
   "source": [
    "units = int(input(\"Enter the number of units consumed: \"))\n",
    "bill_amount = 0\n",
    "if units <= 100:\n",
    "    \n",
    "    bill_amount = 0\n",
    "elif units <= 200:\n",
    "    bill_amount = (units - 100) * 5\n",
    "else:\n",
    "    bill_amount = (100 * 5) + (units - 200) * 10\n",
    "print(f\"Total bill amount: Rs {bill_amount}\")"
   ]
  },
  {
   "cell_type": "markdown",
   "id": "3e84ff29-07f6-4e04-8765-c103123412eb",
   "metadata": {},
   "source": [
    "Q2. Write a program to accept percentage from the user and display\n",
    "the grade according to the following criteria:"
   ]
  },
  {
   "cell_type": "code",
   "execution_count": null,
   "id": "8dd941ab-b42b-4bb3-8d22-2f6d537db8dc",
   "metadata": {},
   "outputs": [],
   "source": [
    "percentage = float(input(\"Enter your percentage: \"))\n",
    "if percentage > 90:\n",
    "    grade = \"A\"\n",
    "elif percentage > 80 and percentage <= 90:\n",
    "    grade = \"B\"\n",
    "elif percentage >= 60 and percentage <= 80:\n",
    "    grade = \"C\"\n",
    "else:\n",
    "    grade = \"D\"\n",
    "print(f\"Your grade is: {grade}\")"
   ]
  },
  {
   "cell_type": "markdown",
   "id": "f1cc9b9e-9151-4777-8640-439a39258c84",
   "metadata": {},
   "source": [
    "Q3. Accept the age of 4 people and display the youngest one?"
   ]
  },
  {
   "cell_type": "code",
   "execution_count": null,
   "id": "9346a763-cce4-40bd-bbf5-87b605719bd6",
   "metadata": {},
   "outputs": [],
   "source": [
    "age1 = int(input(\"Enter the age of person 1: \"))\n",
    "age2 = int(input(\"Enter the age of person 2: \"))\n",
    "age3 = int(input(\"Enter the age of person 3: \"))\n",
    "age4 = int(input(\"Enter the age of person 4: \"))\n",
    "\n",
    "y = age1\n",
    "\n",
    "if age2 < y:\n",
    "    y = age2\n",
    "\n",
    "if age3 < y:\n",
    "    y = age3\n",
    "\n",
    "if age4 < y:\n",
    "    y = age4\n",
    "\n",
    "print(f\"The youngest age is: {y}\")"
   ]
  },
  {
   "cell_type": "markdown",
   "id": "5d91e5ac-2f7d-4ad3-8226-720033148ef0",
   "metadata": {},
   "source": [
    "Q4. A company decided to give bonus to employee\n",
    "according to following criteria:\n",
    "\n",
    "Time period of Service Bonus\n",
    "\n",
    "More than 10 years 10%\n",
    "\n",
    ">=6 and <=10 8%\n",
    "\n",
    "Less than 6 years 5%\n",
    "\n",
    "Ask user for their salary and years of service and print the\n",
    "net bonus amount?"
   ]
  },
  {
   "cell_type": "code",
   "execution_count": null,
   "id": "e6c958e7-898c-4bc7-bf6b-7460f3b07726",
   "metadata": {},
   "outputs": [],
   "source": [
    "salary = float(input(\"Enter your salary: \"))\n",
    "years_of_service = int(input(\"Enter your years of service: \"))\n",
    "if years_of_service > 10:\n",
    "    bonus_percentage = 10\n",
    "elif 6 <= years_of_service <= 10:\n",
    "    bonus_percentage = 8\n",
    "else:\n",
    "    bonus_percentage = 5\n",
    "bonus_amount = (bonus_percentage / 100) * salary\n",
    "\n",
    "print(f\"Your net bonus amount is: {bonus_amount}\")"
   ]
  },
  {
   "cell_type": "markdown",
   "id": "6590dfd6-7316-402e-a027-65f4a9fefdb4",
   "metadata": {},
   "source": [
    "Q5. Accept three numbers from the user and\n",
    "display the second largest number?"
   ]
  },
  {
   "cell_type": "code",
   "execution_count": null,
   "id": "31c22c50-ef61-4422-a07a-19647c8a36ce",
   "metadata": {},
   "outputs": [],
   "source": [
    "num1 = float(input(\"Enter the first number: \"))\n",
    "num2 = float(input(\"Enter the second number: \"))\n",
    "num3 = float(input(\"Enter the third number: \"))\n",
    "\n",
    "numbers = [num1, num2, num3]\n",
    "numbers.sort(reverse=True)\n",
    "second_largest = numbers[1]\n",
    "\n",
    "print(f\"The second largest number is: {second_largest}\")"
   ]
  },
  {
   "cell_type": "markdown",
   "id": "c85bc4d8-7dad-48af-a2ef-9b95347114ba",
   "metadata": {},
   "source": [
    "Q6. Accept the marked price from the user and calculate\n",
    "the Net amount as (Marked Price – Discount) to pay\n",
    "according to following criteria:\n",
    "\n",
    "Marked Price Discount\n",
    ">10000 20%\n",
    ">7000 and <=10000 15%\n",
    "<=7000 10%"
   ]
  },
  {
   "cell_type": "code",
   "execution_count": null,
   "id": "a0878ae1-96a8-4d26-b4e5-99315cde220b",
   "metadata": {},
   "outputs": [],
   "source": [
    "\n",
    "marked_price = float(input(\"Enter the marked price: \"))\n",
    "if marked_price > 10000:\n",
    "    discount_percentage = 20\n",
    "elif 7000 < marked_price <= 10000:\n",
    "    discount_percentage = 15\n",
    "else:\n",
    "    discount_percentage = 10\n",
    "\n",
    "discount_amount = (discount_percentage / 100) * marked_price\n",
    "\n",
    "\n",
    "net_amount = marked_price - discount_amount\n",
    "\n",
    "print(f\"The net amount to pay is: {net_amount}\")"
   ]
  },
  {
   "cell_type": "markdown",
   "id": "06b2e086-cecf-4006-b917-a4f38deeb635",
   "metadata": {},
   "source": [
    "Q7. Accept the marks of English, Math and Science,\n",
    "Social Studies Subject and display the stream allotted\n",
    "according to following:\n",
    "\n",
    "All Subjects more than 80 marks — Science Stream\n",
    "\n",
    "English >80 and Math, Science above 50 — Commerce Stream\n",
    "\n",
    "English > 80 and social studies > 80 — Humanities"
   ]
  },
  {
   "cell_type": "code",
   "execution_count": null,
   "id": "3cddca51-6e05-4a36-8804-b6f5563a2df6",
   "metadata": {},
   "outputs": [],
   "source": [
    "english_marks = float(input(\"Enter the marks for English: \"))\n",
    "math_marks = float(input(\"Enter the marks for Math: \"))\n",
    "science_marks = float(input(\"Enter the marks for Science: \"))\n",
    "social_studies_marks = float(input(\"Enter the marks for Social Studies: \"))\n",
    "\n",
    "if english_marks > 80 and math_marks > 50 and science_marks > 50:\n",
    "    stream = \"Commerce Stream\"\n",
    "elif english_marks > 80 and social_studies_marks > 80:\n",
    "    stream = \"Humanities Stream\"\n",
    "elif english_marks > 80 and math_marks > 80 and science_marks > 80 and social_studies_marks > 80:\n",
    "    stream = \"Science Stream\"\n",
    "else:\n",
    "    stream = \"No specific stream allotted\"\n",
    "\n",
    "# Display the stream\n",
    "print(f\"The allotted stream is: {stream}\")"
   ]
  },
  {
   "cell_type": "markdown",
   "id": "3876cfe6-859b-4143-89c0-3716eb1c98ff",
   "metadata": {},
   "source": [
    "Q8. Write a program to display \"Hello\" if a number entered\n",
    "by user is a multiple of five, otherwise print \"Bye\"?"
   ]
  },
  {
   "cell_type": "code",
   "execution_count": null,
   "id": "bd9deaf5-589a-444f-a603-5cf5e76f4a7d",
   "metadata": {},
   "outputs": [],
   "source": [
    "number = int(input(\"Enter a number: \"))\n",
    "if number % 5 == 0:\n",
    "    print(\"Hello\")\n",
    "else:\n",
    "    print(\"Bye\")"
   ]
  },
  {
   "cell_type": "markdown",
   "id": "69cfb74a-56a3-4a5a-830b-009d5daa48e6",
   "metadata": {},
   "source": [
    "Q9. Write a program to check whether the last digit of a number\n",
    "(entered by user) is divisible by 3 or not?"
   ]
  },
  {
   "cell_type": "code",
   "execution_count": null,
   "id": "6e38e0ca-89b7-42f5-8fb5-a871d9ebb397",
   "metadata": {},
   "outputs": [],
   "source": [
    "number = int(input(\"Enter a number: \"))\n",
    "last_digit = abs(number) % 10\n",
    "\n",
    "if last_digit % 3 == 0:\n",
    "    print(f\"The last digit {last_digit} is divisible by 3.\")\n",
    "else:\n",
    "    print(f\"The last digit {last_digit} is not divisible by 3.\")"
   ]
  },
  {
   "cell_type": "markdown",
   "id": "4fe8b388-6c2e-498c-a641-3d56f8431cf5",
   "metadata": {},
   "source": [
    "Q10. Write a program to check whether a number entered\n",
    "is three-digit number or not?"
   ]
  },
  {
   "cell_type": "code",
   "execution_count": null,
   "id": "2243bd33-2a11-40f9-bf63-2d49a76ad82b",
   "metadata": {},
   "outputs": [],
   "source": [
    "# Get user input\n",
    "number = int(input(\"Enter a number: \"))\n",
    "\n",
    "if 100 <= abs(number) <= 999:\n",
    "    print(\"The number is a three-digit number.\")\n",
    "else:\n",
    "    print(\"The number is not a three-digit number.\")"
   ]
  },
  {
   "cell_type": "code",
   "execution_count": null,
   "id": "9f2f2c30-b020-4661-8b45-7e6dd9a71c0b",
   "metadata": {},
   "outputs": [],
   "source": []
  }
 ],
 "metadata": {
  "kernelspec": {
   "display_name": "Python 3 (ipykernel)",
   "language": "python",
   "name": "python3"
  },
  "language_info": {
   "codemirror_mode": {
    "name": "ipython",
    "version": 3
   },
   "file_extension": ".py",
   "mimetype": "text/x-python",
   "name": "python",
   "nbconvert_exporter": "python",
   "pygments_lexer": "ipython3",
   "version": "3.12.4"
  }
 },
 "nbformat": 4,
 "nbformat_minor": 5
}
